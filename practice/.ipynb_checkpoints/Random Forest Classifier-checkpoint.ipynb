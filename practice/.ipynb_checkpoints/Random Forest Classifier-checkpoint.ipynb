{
 "cells": [
  {
   "cell_type": "code",
   "execution_count": 9,
   "id": "e97cbc6e",
   "metadata": {},
   "outputs": [
    {
     "name": "stderr",
     "output_type": "stream",
     "text": [
      "D:\\Anaconda3\\envs\\data\\lib\\site-packages\\sklearn\\base.py:445: UserWarning: X does not have valid feature names, but RandomForestClassifier was fitted with feature names\n",
      "  warnings.warn(\n",
      "D:\\Anaconda3\\envs\\data\\lib\\site-packages\\sklearn\\base.py:445: UserWarning: X does not have valid feature names, but RandomForestClassifier was fitted with feature names\n",
      "  warnings.warn(\n",
      "D:\\Anaconda3\\envs\\data\\lib\\site-packages\\sklearn\\base.py:445: UserWarning: X does not have valid feature names, but RandomForestClassifier was fitted with feature names\n",
      "  warnings.warn(\n",
      "D:\\Anaconda3\\envs\\data\\lib\\site-packages\\sklearn\\base.py:445: UserWarning: X does not have valid feature names, but RandomForestClassifier was fitted with feature names\n",
      "  warnings.warn(\n",
      "D:\\Anaconda3\\envs\\data\\lib\\site-packages\\sklearn\\base.py:445: UserWarning: X does not have valid feature names, but RandomForestClassifier was fitted with feature names\n",
      "  warnings.warn(\n",
      "D:\\Anaconda3\\envs\\data\\lib\\site-packages\\sklearn\\base.py:445: UserWarning: X does not have valid feature names, but RandomForestClassifier was fitted with feature names\n",
      "  warnings.warn(\n",
      "D:\\Anaconda3\\envs\\data\\lib\\site-packages\\sklearn\\base.py:445: UserWarning: X does not have valid feature names, but RandomForestClassifier was fitted with feature names\n",
      "  warnings.warn(\n",
      "D:\\Anaconda3\\envs\\data\\lib\\site-packages\\sklearn\\base.py:445: UserWarning: X does not have valid feature names, but RandomForestClassifier was fitted with feature names\n",
      "  warnings.warn(\n",
      "D:\\Anaconda3\\envs\\data\\lib\\site-packages\\sklearn\\base.py:445: UserWarning: X does not have valid feature names, but RandomForestClassifier was fitted with feature names\n",
      "  warnings.warn(\n",
      "D:\\Anaconda3\\envs\\data\\lib\\site-packages\\sklearn\\base.py:445: UserWarning: X does not have valid feature names, but RandomForestClassifier was fitted with feature names\n",
      "  warnings.warn(\n",
      "D:\\Anaconda3\\envs\\data\\lib\\site-packages\\sklearn\\base.py:445: UserWarning: X does not have valid feature names, but RandomForestClassifier was fitted with feature names\n",
      "  warnings.warn(\n",
      "D:\\Anaconda3\\envs\\data\\lib\\site-packages\\sklearn\\base.py:445: UserWarning: X does not have valid feature names, but RandomForestClassifier was fitted with feature names\n",
      "  warnings.warn(\n",
      "D:\\Anaconda3\\envs\\data\\lib\\site-packages\\sklearn\\base.py:445: UserWarning: X does not have valid feature names, but RandomForestClassifier was fitted with feature names\n",
      "  warnings.warn(\n",
      "D:\\Anaconda3\\envs\\data\\lib\\site-packages\\sklearn\\base.py:445: UserWarning: X does not have valid feature names, but RandomForestClassifier was fitted with feature names\n",
      "  warnings.warn(\n",
      "D:\\Anaconda3\\envs\\data\\lib\\site-packages\\sklearn\\base.py:445: UserWarning: X does not have valid feature names, but RandomForestClassifier was fitted with feature names\n",
      "  warnings.warn(\n",
      "D:\\Anaconda3\\envs\\data\\lib\\site-packages\\sklearn\\base.py:445: UserWarning: X does not have valid feature names, but RandomForestClassifier was fitted with feature names\n",
      "  warnings.warn(\n",
      "D:\\Anaconda3\\envs\\data\\lib\\site-packages\\sklearn\\base.py:445: UserWarning: X does not have valid feature names, but RandomForestClassifier was fitted with feature names\n",
      "  warnings.warn(\n",
      "D:\\Anaconda3\\envs\\data\\lib\\site-packages\\sklearn\\base.py:445: UserWarning: X does not have valid feature names, but RandomForestClassifier was fitted with feature names\n",
      "  warnings.warn(\n",
      "D:\\Anaconda3\\envs\\data\\lib\\site-packages\\sklearn\\base.py:445: UserWarning: X does not have valid feature names, but RandomForestClassifier was fitted with feature names\n",
      "  warnings.warn(\n",
      "D:\\Anaconda3\\envs\\data\\lib\\site-packages\\sklearn\\base.py:445: UserWarning: X does not have valid feature names, but RandomForestClassifier was fitted with feature names\n",
      "  warnings.warn(\n",
      "D:\\Anaconda3\\envs\\data\\lib\\site-packages\\sklearn\\base.py:445: UserWarning: X does not have valid feature names, but RandomForestClassifier was fitted with feature names\n",
      "  warnings.warn(\n",
      "D:\\Anaconda3\\envs\\data\\lib\\site-packages\\sklearn\\base.py:445: UserWarning: X does not have valid feature names, but RandomForestClassifier was fitted with feature names\n",
      "  warnings.warn(\n",
      "D:\\Anaconda3\\envs\\data\\lib\\site-packages\\sklearn\\base.py:445: UserWarning: X does not have valid feature names, but RandomForestClassifier was fitted with feature names\n",
      "  warnings.warn(\n",
      "D:\\Anaconda3\\envs\\data\\lib\\site-packages\\sklearn\\base.py:445: UserWarning: X does not have valid feature names, but RandomForestClassifier was fitted with feature names\n",
      "  warnings.warn(\n",
      "D:\\Anaconda3\\envs\\data\\lib\\site-packages\\sklearn\\base.py:445: UserWarning: X does not have valid feature names, but RandomForestClassifier was fitted with feature names\n",
      "  warnings.warn(\n",
      "D:\\Anaconda3\\envs\\data\\lib\\site-packages\\sklearn\\base.py:445: UserWarning: X does not have valid feature names, but RandomForestClassifier was fitted with feature names\n",
      "  warnings.warn(\n",
      "D:\\Anaconda3\\envs\\data\\lib\\site-packages\\sklearn\\base.py:445: UserWarning: X does not have valid feature names, but RandomForestClassifier was fitted with feature names\n",
      "  warnings.warn(\n",
      "D:\\Anaconda3\\envs\\data\\lib\\site-packages\\sklearn\\base.py:445: UserWarning: X does not have valid feature names, but RandomForestClassifier was fitted with feature names\n",
      "  warnings.warn(\n",
      "D:\\Anaconda3\\envs\\data\\lib\\site-packages\\sklearn\\base.py:445: UserWarning: X does not have valid feature names, but RandomForestClassifier was fitted with feature names\n",
      "  warnings.warn(\n",
      "D:\\Anaconda3\\envs\\data\\lib\\site-packages\\sklearn\\base.py:445: UserWarning: X does not have valid feature names, but RandomForestClassifier was fitted with feature names\n",
      "  warnings.warn(\n",
      "D:\\Anaconda3\\envs\\data\\lib\\site-packages\\sklearn\\base.py:445: UserWarning: X does not have valid feature names, but RandomForestClassifier was fitted with feature names\n",
      "  warnings.warn(\n",
      "D:\\Anaconda3\\envs\\data\\lib\\site-packages\\sklearn\\base.py:445: UserWarning: X does not have valid feature names, but RandomForestClassifier was fitted with feature names\n",
      "  warnings.warn(\n",
      "D:\\Anaconda3\\envs\\data\\lib\\site-packages\\sklearn\\base.py:445: UserWarning: X does not have valid feature names, but RandomForestClassifier was fitted with feature names\n",
      "  warnings.warn(\n",
      "D:\\Anaconda3\\envs\\data\\lib\\site-packages\\sklearn\\base.py:445: UserWarning: X does not have valid feature names, but RandomForestClassifier was fitted with feature names\n",
      "  warnings.warn(\n",
      "D:\\Anaconda3\\envs\\data\\lib\\site-packages\\sklearn\\base.py:445: UserWarning: X does not have valid feature names, but RandomForestClassifier was fitted with feature names\n",
      "  warnings.warn(\n",
      "D:\\Anaconda3\\envs\\data\\lib\\site-packages\\sklearn\\base.py:445: UserWarning: X does not have valid feature names, but RandomForestClassifier was fitted with feature names\n",
      "  warnings.warn(\n",
      "D:\\Anaconda3\\envs\\data\\lib\\site-packages\\sklearn\\base.py:445: UserWarning: X does not have valid feature names, but RandomForestClassifier was fitted with feature names\n",
      "  warnings.warn(\n",
      "D:\\Anaconda3\\envs\\data\\lib\\site-packages\\sklearn\\base.py:445: UserWarning: X does not have valid feature names, but RandomForestClassifier was fitted with feature names\n",
      "  warnings.warn(\n",
      "D:\\Anaconda3\\envs\\data\\lib\\site-packages\\sklearn\\base.py:445: UserWarning: X does not have valid feature names, but RandomForestClassifier was fitted with feature names\n",
      "  warnings.warn(\n",
      "D:\\Anaconda3\\envs\\data\\lib\\site-packages\\sklearn\\base.py:445: UserWarning: X does not have valid feature names, but RandomForestClassifier was fitted with feature names\n",
      "  warnings.warn(\n",
      "D:\\Anaconda3\\envs\\data\\lib\\site-packages\\sklearn\\base.py:445: UserWarning: X does not have valid feature names, but RandomForestClassifier was fitted with feature names\n",
      "  warnings.warn(\n",
      "D:\\Anaconda3\\envs\\data\\lib\\site-packages\\sklearn\\base.py:445: UserWarning: X does not have valid feature names, but RandomForestClassifier was fitted with feature names\n",
      "  warnings.warn(\n",
      "D:\\Anaconda3\\envs\\data\\lib\\site-packages\\sklearn\\base.py:445: UserWarning: X does not have valid feature names, but RandomForestClassifier was fitted with feature names\n",
      "  warnings.warn(\n",
      "D:\\Anaconda3\\envs\\data\\lib\\site-packages\\sklearn\\base.py:445: UserWarning: X does not have valid feature names, but RandomForestClassifier was fitted with feature names\n",
      "  warnings.warn(\n",
      "D:\\Anaconda3\\envs\\data\\lib\\site-packages\\sklearn\\base.py:445: UserWarning: X does not have valid feature names, but RandomForestClassifier was fitted with feature names\n",
      "  warnings.warn(\n"
     ]
    },
    {
     "name": "stderr",
     "output_type": "stream",
     "text": [
      "D:\\Anaconda3\\envs\\data\\lib\\site-packages\\sklearn\\base.py:445: UserWarning: X does not have valid feature names, but RandomForestClassifier was fitted with feature names\n",
      "  warnings.warn(\n",
      "D:\\Anaconda3\\envs\\data\\lib\\site-packages\\sklearn\\base.py:445: UserWarning: X does not have valid feature names, but RandomForestClassifier was fitted with feature names\n",
      "  warnings.warn(\n",
      "D:\\Anaconda3\\envs\\data\\lib\\site-packages\\sklearn\\base.py:445: UserWarning: X does not have valid feature names, but RandomForestClassifier was fitted with feature names\n",
      "  warnings.warn(\n",
      "D:\\Anaconda3\\envs\\data\\lib\\site-packages\\sklearn\\base.py:445: UserWarning: X does not have valid feature names, but RandomForestClassifier was fitted with feature names\n",
      "  warnings.warn(\n",
      "D:\\Anaconda3\\envs\\data\\lib\\site-packages\\sklearn\\base.py:445: UserWarning: X does not have valid feature names, but RandomForestClassifier was fitted with feature names\n",
      "  warnings.warn(\n",
      "D:\\Anaconda3\\envs\\data\\lib\\site-packages\\sklearn\\base.py:445: UserWarning: X does not have valid feature names, but RandomForestClassifier was fitted with feature names\n",
      "  warnings.warn(\n",
      "D:\\Anaconda3\\envs\\data\\lib\\site-packages\\sklearn\\base.py:445: UserWarning: X does not have valid feature names, but RandomForestClassifier was fitted with feature names\n",
      "  warnings.warn(\n",
      "D:\\Anaconda3\\envs\\data\\lib\\site-packages\\sklearn\\base.py:445: UserWarning: X does not have valid feature names, but RandomForestClassifier was fitted with feature names\n",
      "  warnings.warn(\n",
      "D:\\Anaconda3\\envs\\data\\lib\\site-packages\\sklearn\\base.py:445: UserWarning: X does not have valid feature names, but RandomForestClassifier was fitted with feature names\n",
      "  warnings.warn(\n",
      "D:\\Anaconda3\\envs\\data\\lib\\site-packages\\sklearn\\base.py:445: UserWarning: X does not have valid feature names, but RandomForestClassifier was fitted with feature names\n",
      "  warnings.warn(\n",
      "D:\\Anaconda3\\envs\\data\\lib\\site-packages\\sklearn\\base.py:445: UserWarning: X does not have valid feature names, but RandomForestClassifier was fitted with feature names\n",
      "  warnings.warn(\n",
      "D:\\Anaconda3\\envs\\data\\lib\\site-packages\\sklearn\\base.py:445: UserWarning: X does not have valid feature names, but RandomForestClassifier was fitted with feature names\n",
      "  warnings.warn(\n",
      "D:\\Anaconda3\\envs\\data\\lib\\site-packages\\sklearn\\base.py:445: UserWarning: X does not have valid feature names, but RandomForestClassifier was fitted with feature names\n",
      "  warnings.warn(\n",
      "D:\\Anaconda3\\envs\\data\\lib\\site-packages\\sklearn\\base.py:445: UserWarning: X does not have valid feature names, but RandomForestClassifier was fitted with feature names\n",
      "  warnings.warn(\n",
      "D:\\Anaconda3\\envs\\data\\lib\\site-packages\\sklearn\\base.py:445: UserWarning: X does not have valid feature names, but RandomForestClassifier was fitted with feature names\n",
      "  warnings.warn(\n",
      "D:\\Anaconda3\\envs\\data\\lib\\site-packages\\sklearn\\model_selection\\_validation.py:372: FitFailedWarning: \n",
      "60 fits failed out of a total of 240.\n",
      "The score on these train-test partitions for these parameters will be set to nan.\n",
      "If these failures are not expected, you can try to debug them by setting error_score='raise'.\n",
      "\n",
      "Below are more details about the failures:\n",
      "--------------------------------------------------------------------------------\n",
      "60 fits failed with the following error:\n",
      "Traceback (most recent call last):\n",
      "  File \"D:\\Anaconda3\\envs\\data\\lib\\site-packages\\sklearn\\model_selection\\_validation.py\", line 681, in _fit_and_score\n",
      "    estimator.fit(X_train, y_train, **fit_params)\n",
      "  File \"D:\\Anaconda3\\envs\\data\\lib\\site-packages\\sklearn\\ensemble\\_forest.py\", line 403, in fit\n",
      "    raise ValueError(\"Out of bag estimation only available if bootstrap=True\")\n",
      "ValueError: Out of bag estimation only available if bootstrap=True\n",
      "\n",
      "  warnings.warn(some_fits_failed_message, FitFailedWarning)\n",
      "D:\\Anaconda3\\envs\\data\\lib\\site-packages\\sklearn\\model_selection\\_search.py:969: UserWarning: One or more of the test scores are non-finite: [0.99271255 0.99190283 0.99352227 0.99190283 0.99271255 0.99271255\n",
      " 0.99190283 0.99271255 0.99271255 0.9951417  0.99189954 0.99189954\n",
      " 0.99432869 0.99432869 0.99352227 0.9951417  0.98947039 0.99189954\n",
      " 0.98947039 0.98947039 0.99028011 0.99108983 0.99028011 0.99028011\n",
      "        nan 0.99352227        nan 0.99433198        nan 0.99271255\n",
      "        nan 0.99433198        nan 0.99352227        nan 0.99108983\n",
      "        nan 0.99189954        nan 0.99352227        nan 0.98379908\n",
      "        nan 0.98541852        nan 0.98541852        nan 0.98541852]\n",
      "  warnings.warn(\n"
     ]
    },
    {
     "data": {
      "text/plain": [
       "GridSearchCV(estimator=RandomForestClassifier(),\n",
       "             param_grid={'bootstrap': [True, False], 'max_features': [2, 3, 4],\n",
       "                         'n_estimators': [64, 100, 128, 200],\n",
       "                         'oob_score': [True, False]})"
      ]
     },
     "execution_count": 9,
     "metadata": {},
     "output_type": "execute_result"
    }
   ],
   "source": [
    "import numpy as np\n",
    "import pandas as pd\n",
    "import matplotlib.pyplot as plt\n",
    "import seaborn as sns\n",
    "\n",
    "df = pd.read_csv('data_banknote_authentication.csv')\n",
    "x = df.drop('Class',axis=1)\n",
    "y = df['Class']\n",
    "\n",
    "from sklearn.model_selection import train_test_split\n",
    "\n",
    "x_train,x_test,y_train,y_test = train_test_split(x,y,test_size=0.1,random_state=101)\n",
    "\n",
    "from sklearn.model_selection import GridSearchCV\n",
    "from sklearn.ensemble import RandomForestClassifier\n",
    "\n",
    "rfc = RandomForestClassifier()\n",
    "n_estimators = [64,100,128,200]\n",
    "max_features = [2,3,4]\n",
    "bootstrap = [True,False]\n",
    "oob_score = [True,False]\n",
    "param_grid = {'n_estimators':n_estimators,\n",
    "              'max_features':max_features,\n",
    "              'bootstrap':bootstrap,\n",
    "              'oob_score':oob_score}\n",
    "\n",
    "grid = GridSearchCV(rfc,param_grid)\n",
    "grid.fit(x_train,y_train)"
   ]
  },
  {
   "cell_type": "code",
   "execution_count": 10,
   "id": "207953dd",
   "metadata": {},
   "outputs": [
    {
     "data": {
      "text/plain": [
       "{'bootstrap': True, 'max_features': 3, 'n_estimators': 64, 'oob_score': False}"
      ]
     },
     "execution_count": 10,
     "metadata": {},
     "output_type": "execute_result"
    }
   ],
   "source": [
    "grid.best_params_"
   ]
  },
  {
   "cell_type": "code",
   "execution_count": 18,
   "id": "55b43110",
   "metadata": {},
   "outputs": [
    {
     "name": "stderr",
     "output_type": "stream",
     "text": [
      "D:\\Anaconda3\\envs\\data\\lib\\site-packages\\sklearn\\base.py:445: UserWarning: X does not have valid feature names, but RandomForestClassifier was fitted with feature names\n",
      "  warnings.warn(\n"
     ]
    },
    {
     "data": {
      "text/plain": [
       "RandomForestClassifier(max_features=3, n_estimators=64, oob_score=True)"
      ]
     },
     "execution_count": 18,
     "metadata": {},
     "output_type": "execute_result"
    }
   ],
   "source": [
    "rfc = RandomForestClassifier(n_estimators=64,bootstrap=True,max_features=3,oob_score=True)\n",
    "rfc.fit(x_train,y_train)"
   ]
  },
  {
   "cell_type": "code",
   "execution_count": 19,
   "id": "0900f97d",
   "metadata": {},
   "outputs": [
    {
     "data": {
      "text/plain": [
       "0.9959481361426256"
      ]
     },
     "execution_count": 19,
     "metadata": {},
     "output_type": "execute_result"
    }
   ],
   "source": [
    "rfc.oob_score_"
   ]
  },
  {
   "cell_type": "code",
   "execution_count": 33,
   "id": "35322f28",
   "metadata": {},
   "outputs": [
    {
     "name": "stdout",
     "output_type": "stream",
     "text": [
      "              precision    recall  f1-score   support\n",
      "\n",
      "           0       1.00      0.99      0.99        89\n",
      "           1       0.98      1.00      0.99        49\n",
      "\n",
      "    accuracy                           0.99       138\n",
      "   macro avg       0.99      0.99      0.99       138\n",
      "weighted avg       0.99      0.99      0.99       138\n",
      "\n"
     ]
    }
   ],
   "source": [
    "prediction = rfc.predict(x_test)\n",
    "\n",
    "from sklearn.metrics import confusion_matrix,classification_report,accuracy_score\n",
    "\n",
    "print(classification_report(y_test,prediction))"
   ]
  },
  {
   "cell_type": "code",
   "execution_count": 40,
   "id": "5b1c6950",
   "metadata": {},
   "outputs": [],
   "source": [
    "errors =[]\n",
    "misclassifications = []\n",
    "\n",
    "for n in range(1,200):\n",
    "    rfc = RandomForestClassifier(n_estimators=n, max_features=3)\n",
    "    rfc.fit(x_train,y_train)\n",
    "    preds = rfc.predict(x_test)\n",
    "    err = 1-accuracy_score(y_test,preds)\n",
    "    n_missed = np.sum(preds != y_test)\n",
    "    errors.append(err)\n",
    "    misclassifications.append(n_missed)"
   ]
  },
  {
   "cell_type": "code",
   "execution_count": 41,
   "id": "c4e59ba2",
   "metadata": {},
   "outputs": [
    {
     "data": {
      "text/plain": [
       "[<matplotlib.lines.Line2D at 0x29e5416e970>]"
      ]
     },
     "execution_count": 41,
     "metadata": {},
     "output_type": "execute_result"
    },
    {
     "data": {
      "image/png": "[encoded data removed]",
      "text/plain": [
       "<Figure size 432x288 with 1 Axes>"
      ]
     },
     "metadata": {
      "needs_background": "light"
     },
     "output_type": "display_data"
    }
   ],
   "source": [
    "plt.plot(range(1,200),errors)"
   ]
  },
  {
   "cell_type": "code",
   "execution_count": 42,
   "id": "d25ab242",
   "metadata": {},
   "outputs": [
    {
     "data": {
      "text/plain": [
       "[<matplotlib.lines.Line2D at 0x29e526c2ca0>]"
      ]
     },
     "execution_count": 42,
     "metadata": {},
     "output_type": "execute_result"
    },
    {
     "data": {
      "image/png": "[encoded data removed]",
      "text/plain": [
       "<Figure size 432x288 with 1 Axes>"
      ]
     },
     "metadata": {
      "needs_background": "light"
     },
     "output_type": "display_data"
    }
   ],
   "source": [
    "plt.plot(range(1,200),misclassifications)"
   ]
  },
  {
   "cell_type": "code",
   "execution_count": null,
   "id": "8a4e79ef",
   "metadata": {},
   "outputs": [],
   "source": []
  }
 ],
 "metadata": {
  "kernelspec": {
   "display_name": "Python 3 (ipykernel)",
   "language": "python",
   "name": "python3"
  },
  "language_info": {
   "codemirror_mode": {
    "name": "ipython",
    "version": 3
   },
   "file_extension": ".py",
   "mimetype": "text/x-python",
   "name": "python",
   "nbconvert_exporter": "python",
   "pygments_lexer": "ipython3",
   "version": "3.9.7"
  }
 },
 "nbformat": 4,
 "nbformat_minor": 5
}
